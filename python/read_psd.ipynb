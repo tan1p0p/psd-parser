{
 "cells": [
  {
   "cell_type": "markdown",
   "metadata": {},
   "source": [
    "# Tried to read png files"
   ]
  },
  {
   "cell_type": "code",
   "execution_count": 1,
   "metadata": {},
   "outputs": [],
   "source": [
    "# import struct and read psd data\n",
    "import struct\n",
    "path = 'psd/illust2.psd'\n",
    "psd_data = open(path, \"rb\").read()"
   ]
  },
  {
   "cell_type": "code",
   "execution_count": 2,
   "metadata": {},
   "outputs": [],
   "source": [
    "def continue_unpack(fmt, fmt_size, buffer, offset=0):\n",
    "    data = struct.unpack_from(fmt, buffer, offset)\n",
    "    next_offset = offset + fmt_size\n",
    "    return data, next_offset"
   ]
  },
  {
   "cell_type": "code",
   "execution_count": 3,
   "metadata": {},
   "outputs": [
    {
     "name": "stdout",
     "output_type": "stream",
     "text": [
      "(b'8BPS',) (1,) (0, 0, 0) (3,) (4500,) (3209,) (8,) (3,)\n"
     ]
    }
   ],
   "source": [
    "# File Header Section\n",
    "signature = struct.unpack_from(\">4s\", psd_data, 0)  # '8BPS'\n",
    "version = struct.unpack_from(\">H\", psd_data, 4)     # 1\n",
    "reserved = struct.unpack_from(\">3H\", psd_data, 6)   # 0, 0, 0\n",
    "channels = struct.unpack_from(\">H\", psd_data, 12)   # 3\n",
    "height = struct.unpack_from(\">I\", psd_data, 14)     # 4500\n",
    "width = struct.unpack_from(\">I\", psd_data, 18)      # 3209\n",
    "depth = struct.unpack_from(\">H\", psd_data, 22)      # 8\n",
    "color_mode = struct.unpack_from(\">H\", psd_data, 24) # 3(RGB)\n",
    "\n",
    "print(signature, version, reserved, channels, height, width, depth, color_mode)"
   ]
  },
  {
   "cell_type": "code",
   "execution_count": 4,
   "metadata": {},
   "outputs": [
    {
     "name": "stdout",
     "output_type": "stream",
     "text": [
      "(0,)\n"
     ]
    }
   ],
   "source": [
    "# Color Mode Data Section\n",
    "## Only indexed color and duotone have color mode data.\n",
    "## For all other modes, this section is just the 4-byte length field, which is set to zero.\n",
    "\n",
    "color_mode_sec_offset = 26\n",
    "color_mode_sec_length = struct.unpack_from(\">I\", psd_data, color_mode_sec_offset)\n",
    "\n",
    "print(color_mode_sec_length)"
   ]
  },
  {
   "cell_type": "code",
   "execution_count": 5,
   "metadata": {},
   "outputs": [
    {
     "name": "stdout",
     "output_type": "stream",
     "text": [
      "(28728,)\n"
     ]
    }
   ],
   "source": [
    "# Image Resources Section\n",
    "## Some settings section. \n",
    "\n",
    "img_resources_sec_offset = color_mode_sec_offset + 4 + color_mode_sec_length[0]\n",
    "img_resources_sec_length = struct.unpack_from(\">I\", psd_data, img_resources_sec_offset)\n",
    "\n",
    "print(img_resources_sec_length)"
   ]
  },
  {
   "cell_type": "code",
   "execution_count": 6,
   "metadata": {},
   "outputs": [
    {
     "name": "stdout",
     "output_type": "stream",
     "text": [
      "(231675708,)\n"
     ]
    }
   ],
   "source": [
    "# Layer and Mask Information Section\n",
    "## Some settings section. \n",
    "\n",
    "layer_mask_sec_offset = img_resources_sec_offset + 4 + img_resources_sec_length[0]\n",
    "layer_mask_sec_length = struct.unpack_from(\">I\", psd_data, layer_mask_sec_offset)\n",
    "\n",
    "print(layer_mask_sec_length)\n",
    "\n",
    "# Layer info\n",
    "layer_length = struct.unpack_from(\">I\", psd_data, layer_mask_sec_offset + 4)"
   ]
  },
  {
   "cell_type": "code",
   "execution_count": 7,
   "metadata": {},
   "outputs": [
    {
     "data": {
      "text/plain": [
       "(231675648,)"
      ]
     },
     "execution_count": 7,
     "metadata": {},
     "output_type": "execute_result"
    }
   ],
   "source": [
    "layer_length"
   ]
  },
  {
   "cell_type": "code",
   "execution_count": null,
   "metadata": {},
   "outputs": [],
   "source": []
  }
 ],
 "metadata": {
  "kernelspec": {
   "display_name": "Python 3",
   "language": "python",
   "name": "python3"
  },
  "language_info": {
   "codemirror_mode": {
    "name": "ipython",
    "version": 3
   },
   "file_extension": ".py",
   "mimetype": "text/x-python",
   "name": "python",
   "nbconvert_exporter": "python",
   "pygments_lexer": "ipython3",
   "version": "3.6.3"
  }
 },
 "nbformat": 4,
 "nbformat_minor": 2
}
